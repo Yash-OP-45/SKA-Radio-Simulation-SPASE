{
 "cells": [
  {
   "cell_type": "code",
   "execution_count": 1,
   "metadata": {},
   "outputs": [
    {
     "name": "stdout",
     "output_type": "stream",
     "text": [
      "Defaulting to user installation because normal site-packages is not writeable\n",
      "Requirement already satisfied: pandas in c:\\users\\yash giri\\appdata\\roaming\\python\\python312\\site-packages (2.2.2)\n",
      "Requirement already satisfied: plotly in c:\\users\\yash giri\\appdata\\roaming\\python\\python312\\site-packages (5.22.0)\n",
      "Requirement already satisfied: dash in c:\\users\\yash giri\\appdata\\roaming\\python\\python312\\site-packages (2.17.1)\n",
      "Collecting dash-leaflet\n",
      "  Downloading dash_leaflet-1.0.15-py3-none-any.whl.metadata (2.7 kB)\n",
      "Requirement already satisfied: numpy>=1.26.0 in c:\\users\\yash giri\\appdata\\roaming\\python\\python312\\site-packages (from pandas) (1.26.0)\n",
      "Requirement already satisfied: python-dateutil>=2.8.2 in c:\\users\\yash giri\\appdata\\roaming\\python\\python312\\site-packages (from pandas) (2.9.0.post0)\n",
      "Requirement already satisfied: pytz>=2020.1 in c:\\users\\yash giri\\appdata\\roaming\\python\\python312\\site-packages (from pandas) (2024.1)\n",
      "Requirement already satisfied: tzdata>=2022.7 in c:\\users\\yash giri\\appdata\\roaming\\python\\python312\\site-packages (from pandas) (2024.1)\n",
      "Requirement already satisfied: tenacity>=6.2.0 in c:\\users\\yash giri\\appdata\\roaming\\python\\python312\\site-packages (from plotly) (8.5.0)\n",
      "Requirement already satisfied: packaging in c:\\users\\yash giri\\appdata\\roaming\\python\\python312\\site-packages (from plotly) (24.1)\n",
      "Requirement already satisfied: Flask<3.1,>=1.0.4 in c:\\users\\yash giri\\appdata\\roaming\\python\\python312\\site-packages (from dash) (3.0.3)\n",
      "Requirement already satisfied: Werkzeug<3.1 in c:\\users\\yash giri\\appdata\\roaming\\python\\python312\\site-packages (from dash) (3.0.3)\n",
      "Requirement already satisfied: dash-html-components==2.0.0 in c:\\users\\yash giri\\appdata\\roaming\\python\\python312\\site-packages (from dash) (2.0.0)\n",
      "Requirement already satisfied: dash-core-components==2.0.0 in c:\\users\\yash giri\\appdata\\roaming\\python\\python312\\site-packages (from dash) (2.0.0)\n",
      "Requirement already satisfied: dash-table==5.0.0 in c:\\users\\yash giri\\appdata\\roaming\\python\\python312\\site-packages (from dash) (5.0.0)\n",
      "Requirement already satisfied: importlib-metadata in c:\\users\\yash giri\\appdata\\roaming\\python\\python312\\site-packages (from dash) (8.0.0)\n",
      "Requirement already satisfied: typing-extensions>=4.1.1 in c:\\users\\yash giri\\appdata\\roaming\\python\\python312\\site-packages (from dash) (4.12.2)\n",
      "Requirement already satisfied: requests in c:\\users\\yash giri\\appdata\\roaming\\python\\python312\\site-packages (from dash) (2.32.3)\n",
      "Requirement already satisfied: retrying in c:\\users\\yash giri\\appdata\\roaming\\python\\python312\\site-packages (from dash) (1.3.4)\n",
      "Requirement already satisfied: nest-asyncio in c:\\users\\yash giri\\appdata\\roaming\\python\\python312\\site-packages (from dash) (1.6.0)\n",
      "Requirement already satisfied: setuptools in c:\\users\\yash giri\\appdata\\roaming\\python\\python312\\site-packages (from dash) (70.1.1)\n",
      "Requirement already satisfied: Jinja2>=3.1.2 in c:\\users\\yash giri\\appdata\\roaming\\python\\python312\\site-packages (from Flask<3.1,>=1.0.4->dash) (3.1.4)\n",
      "Requirement already satisfied: itsdangerous>=2.1.2 in c:\\users\\yash giri\\appdata\\roaming\\python\\python312\\site-packages (from Flask<3.1,>=1.0.4->dash) (2.2.0)\n",
      "Requirement already satisfied: click>=8.1.3 in c:\\users\\yash giri\\appdata\\roaming\\python\\python312\\site-packages (from Flask<3.1,>=1.0.4->dash) (8.1.7)\n",
      "Requirement already satisfied: blinker>=1.6.2 in c:\\users\\yash giri\\appdata\\roaming\\python\\python312\\site-packages (from Flask<3.1,>=1.0.4->dash) (1.8.2)\n",
      "Requirement already satisfied: six>=1.5 in c:\\users\\yash giri\\appdata\\roaming\\python\\python312\\site-packages (from python-dateutil>=2.8.2->pandas) (1.16.0)\n",
      "Requirement already satisfied: MarkupSafe>=2.1.1 in c:\\users\\yash giri\\appdata\\roaming\\python\\python312\\site-packages (from Werkzeug<3.1->dash) (2.1.5)\n",
      "Requirement already satisfied: zipp>=0.5 in c:\\users\\yash giri\\appdata\\roaming\\python\\python312\\site-packages (from importlib-metadata->dash) (3.19.2)\n",
      "Requirement already satisfied: charset-normalizer<4,>=2 in c:\\users\\yash giri\\appdata\\roaming\\python\\python312\\site-packages (from requests->dash) (3.3.2)\n",
      "Requirement already satisfied: idna<4,>=2.5 in c:\\users\\yash giri\\appdata\\roaming\\python\\python312\\site-packages (from requests->dash) (3.7)\n",
      "Requirement already satisfied: urllib3<3,>=1.21.1 in c:\\users\\yash giri\\appdata\\roaming\\python\\python312\\site-packages (from requests->dash) (1.26.19)\n",
      "Requirement already satisfied: certifi>=2017.4.17 in c:\\users\\yash giri\\appdata\\roaming\\python\\python312\\site-packages (from requests->dash) (2024.6.2)\n",
      "Requirement already satisfied: colorama in c:\\users\\yash giri\\appdata\\roaming\\python\\python312\\site-packages (from click>=8.1.3->Flask<3.1,>=1.0.4->dash) (0.4.6)\n",
      "Downloading dash_leaflet-1.0.15-py3-none-any.whl (285 kB)\n",
      "   ---------------------------------------- 0.0/285.5 kB ? eta -:--:--\n",
      "   ---- ----------------------------------- 30.7/285.5 kB 1.3 MB/s eta 0:00:01\n",
      "   ----------------- ---------------------- 122.9/285.5 kB 1.2 MB/s eta 0:00:01\n",
      "   -------------------- ------------------- 143.4/285.5 kB 1.4 MB/s eta 0:00:01\n",
      "   -------------------------------------- - 276.5/285.5 kB 1.4 MB/s eta 0:00:01\n",
      "   ---------------------------------------- 285.5/285.5 kB 1.4 MB/s eta 0:00:00\n",
      "Installing collected packages: dash-leaflet\n",
      "Successfully installed dash-leaflet-1.0.15\n",
      "Note: you may need to restart the kernel to use updated packages.\n"
     ]
    }
   ],
   "source": [
    "pip install pandas plotly dash dash-leaflet\n"
   ]
  },
  {
   "cell_type": "code",
   "execution_count": 1,
   "metadata": {},
   "outputs": [
    {
     "name": "stderr",
     "output_type": "stream",
     "text": [
      "C:\\Users\\Yash Giri\\AppData\\Local\\Temp\\ipykernel_28372\\3000967077.py:3: UserWarning: \n",
      "The dash_core_components package is deprecated. Please replace\n",
      "`import dash_core_components as dcc` with `from dash import dcc`\n",
      "  import dash_core_components as dcc\n",
      "C:\\Users\\Yash Giri\\AppData\\Local\\Temp\\ipykernel_28372\\3000967077.py:4: UserWarning: \n",
      "The dash_html_components package is deprecated. Please replace\n",
      "`import dash_html_components as html` with `from dash import html`\n",
      "  import dash_html_components as html\n"
     ]
    },
    {
     "data": {
      "text/html": [
       "\n",
       "        <iframe\n",
       "            width=\"100%\"\n",
       "            height=\"650\"\n",
       "            src=\"http://127.0.0.1:8050/\"\n",
       "            frameborder=\"0\"\n",
       "            allowfullscreen\n",
       "            \n",
       "        ></iframe>\n",
       "        "
      ],
      "text/plain": [
       "<IPython.lib.display.IFrame at 0x1d8682933b0>"
      ]
     },
     "metadata": {},
     "output_type": "display_data"
    }
   ],
   "source": [
    "import dash\n",
    "import dash_leaflet as dl\n",
    "import dash_core_components as dcc\n",
    "import dash_html_components as html\n",
    "from dash.dependencies import Input, Output\n",
    "import pandas as pd\n",
    "import os\n",
    "\n",
    "locations_file = pd.read_csv('locations.csv')\n",
    "app = dash.Dash(__name__)\n",
    "server = app.server\n",
    "\n",
    "markers = [\n",
    "    dl.Marker(id=f\"marker-{index}\", position=[row[\"Latitude\"], row[\"Longitude\"]], children=[\n",
    "        dl.Tooltip(row[\"Location\"])\n",
    "    ])\n",
    "    for index, row in locations_file.iterrows()\n",
    "]\n",
    "\n",
    "app.layout = html.Div([\n",
    "    html.Div([\n",
    "        dl.Map(center=[26.5123, 80.2321], zoom=15, children=[\n",
    "            dl.TileLayer(\n",
    "                url=\"https://{s}.tile.openstreetmap.org/{z}/{x}/{y}.png\",\n",
    "                maxZoom=18\n",
    "            ),\n",
    "            dl.LayerGroup(markers, id=\"markers\")\n",
    "        ], style={'height': '90vh', 'width': '50vw'}),\n",
    "    ], style={'display': 'inline-block', 'width': '50%'}),\n",
    "    \n",
    "    html.Div([\n",
    "        html.Div(id=\"graph-container\", style={'width': '100%'})\n",
    "    ], style={'display': 'inline-block', 'width': '50%'})\n",
    "])\n",
    "\n",
    "@app.callback(\n",
    "    Output('graph-container', 'children'),\n",
    "    [Input(f\"marker-{index}\", 'n_clicks') for index in range(len(locations_file))]\n",
    ")\n",
    "def update_graph(*args):\n",
    "    ctx = dash.callback_context\n",
    "\n",
    "    if not ctx.triggered:\n",
    "        return dcc.Graph()\n",
    "\n",
    "    button_id = ctx.triggered[0]['prop_id'].split('.')[0]\n",
    "    index = int(button_id.split('-')[1])\n",
    "    location = locations_file.iloc[index]\n",
    "    \n",
    "    image_path = f\"/static/graphs/{location['Location']}.png\"\n",
    "\n",
    "    return html.Img(src=image_path, style={'width': '100%' , 'height': '100%'})\n",
    "if __name__ == '__main__':\n",
    "    app.run_server(debug=True)\n"
   ]
  }
 ],
 "metadata": {
  "kernelspec": {
   "display_name": "Python 3",
   "language": "python",
   "name": "python3"
  },
  "language_info": {
   "codemirror_mode": {
    "name": "ipython",
    "version": 3
   },
   "file_extension": ".py",
   "mimetype": "text/x-python",
   "name": "python",
   "nbconvert_exporter": "python",
   "pygments_lexer": "ipython3",
   "version": "3.12.4"
  }
 },
 "nbformat": 4,
 "nbformat_minor": 2
}
