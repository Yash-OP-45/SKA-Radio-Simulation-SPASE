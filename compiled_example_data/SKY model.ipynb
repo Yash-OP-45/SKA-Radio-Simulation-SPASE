{
 "cells": [
  {
   "cell_type": "code",
   "execution_count": 82,
   "metadata": {},
   "outputs": [],
   "source": [
    "import matplotlib\n",
    "matplotlib.use(\"Agg\")\n",
    "import matplotlib.pyplot as plt\n",
    "import numpy\n",
    "import oskar"
   ]
  },
  {
   "cell_type": "code",
   "execution_count": 88,
   "metadata": {},
   "outputs": [
    {
     "ename": "TypeError",
     "evalue": "'module' object is not callable",
     "output_type": "error",
     "traceback": [
      "\u001b[1;31m---------------------------------------------------------------------------\u001b[0m",
      "\u001b[1;31mTypeError\u001b[0m                                 Traceback (most recent call last)",
      "Cell \u001b[1;32mIn[88], line 28\u001b[0m\n\u001b[0;32m      1\u001b[0m \u001b[38;5;28;01mimport\u001b[39;00m \u001b[38;5;21;01moskar\u001b[39;00m\u001b[38;5;21;01m.\u001b[39;00m\u001b[38;5;21;01msettings_tree\u001b[39;00m\n\u001b[0;32m      4\u001b[0m params \u001b[38;5;241m=\u001b[39m {\n\u001b[0;32m      5\u001b[0m     \u001b[38;5;124m\"\u001b[39m\u001b[38;5;124msimulator\u001b[39m\u001b[38;5;124m\"\u001b[39m: {\n\u001b[0;32m      6\u001b[0m         \u001b[38;5;124m\"\u001b[39m\u001b[38;5;124muse_gpus\u001b[39m\u001b[38;5;124m\"\u001b[39m: \u001b[38;5;28;01mTrue\u001b[39;00m\n\u001b[1;32m   (...)\u001b[0m\n\u001b[0;32m     26\u001b[0m     }\n\u001b[0;32m     27\u001b[0m }\n\u001b[1;32m---> 28\u001b[0m settings \u001b[38;5;241m=\u001b[39m \u001b[43moskar\u001b[49m\u001b[38;5;241;43m.\u001b[39;49m\u001b[43msettings_tree\u001b[49m\u001b[43m(\u001b[49m\u001b[38;5;124;43m\"\u001b[39;49m\u001b[38;5;124;43moskar_sim_interferometer\u001b[39;49m\u001b[38;5;124;43m\"\u001b[39;49m\u001b[43m)\u001b[49m\n",
      "\u001b[1;31mTypeError\u001b[0m: 'module' object is not callable"
     ]
    }
   ],
   "source": [
    "import oskar.settings_tree\n",
    "\n",
    "\n",
    "params = {\n",
    "    \"simulator\": {\n",
    "        \"use_gpus\": True\n",
    "    },\n",
    "    \"observation\" : {\n",
    "        \"num_channels\": 3,\n",
    "        \"start_frequency_hz\": 100e6,\n",
    "        \"frequency_inc_hz\": 20e6,\n",
    "        \"phase_centre_ra_deg\": 20,\n",
    "        \"phase_centre_dec_deg\": -30,\n",
    "        \"num_time_steps\": 24,\n",
    "        \"start_time_utc\": \"01-01-2000 12:00:00.000\",\n",
    "        \"length\": \"12:00:00.000\"\n",
    "    },\n",
    "    \"telescope\": {\n",
    "        \"input_directory\": \"telescope.tm\"\n",
    "    },\n",
    "    \"interferometer\": {\n",
    "        \"oskar_vis_filename\": \"example.vis\",\n",
    "        \"ms_filename\": \"\",\n",
    "        \"channel_bandwidth_hz\": 1e6,\n",
    "        \"time_average_sec\": 10\n",
    "    }\n",
    "}\n",
    "settings = oskar.settings_tree(\"oskar_sim_interferometer\")\n",
    "settings.from_dict(params)\n"
   ]
  }
 ],
 "metadata": {
  "kernelspec": {
   "display_name": "Python 3",
   "language": "python",
   "name": "python3"
  },
  "language_info": {
   "codemirror_mode": {
    "name": "ipython",
    "version": 3
   },
   "file_extension": ".py",
   "mimetype": "text/x-python",
   "name": "python",
   "nbconvert_exporter": "python",
   "pygments_lexer": "ipython3",
   "version": "3.11.4"
  }
 },
 "nbformat": 4,
 "nbformat_minor": 2
}
