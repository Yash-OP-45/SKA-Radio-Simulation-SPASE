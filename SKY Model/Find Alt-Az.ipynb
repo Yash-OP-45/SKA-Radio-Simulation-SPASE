{
 "cells": [
  {
   "cell_type": "code",
   "execution_count": 2,
   "metadata": {},
   "outputs": [
    {
     "data": {
      "text/plain": [
       "(78.51943444312836, 33.00440221656681)"
      ]
     },
     "execution_count": 2,
     "metadata": {},
     "output_type": "execute_result"
    }
   ],
   "source": [
    "import astropy\n",
    "from astropy.coordinates import EarthLocation, AltAz, get_sun\n",
    "from astropy.time import Time\n",
    "import astropy.units as u\n",
    "\n",
    "# Observer's location\n",
    "latitude = 0 * u.deg\n",
    "longitude = 0* u.deg\n",
    "elevation = 0 * u.m\n",
    "location = EarthLocation(lat=latitude, lon=longitude, height=elevation)\n",
    "\n",
    "# Observation time\n",
    "time = Time('2024-06-11 02:25:30')  # Replace with the desired observation time\n",
    "\n",
    "# Get the position of the Sun (as an example)\n",
    "sun = get_sun(time)\n",
    "\n",
    "# Convert to AltAz frame\n",
    "altaz = AltAz(obstime=time, location=location)\n",
    "sun_altaz = sun.transform_to(altaz)\n",
    "\n",
    "# Print the azimuth and altitude\n",
    "azimuth = sun_altaz.az.deg\n",
    "altitude = sun_altaz.alt.deg\n",
    "\n",
    "azimuth, altitude\n"
   ]
  }
 ],
 "metadata": {
  "kernelspec": {
   "display_name": "Python 3",
   "language": "python",
   "name": "python3"
  },
  "language_info": {
   "codemirror_mode": {
    "name": "ipython",
    "version": 3
   },
   "file_extension": ".py",
   "mimetype": "text/x-python",
   "name": "python",
   "nbconvert_exporter": "python",
   "pygments_lexer": "ipython3",
   "version": "3.11.4"
  }
 },
 "nbformat": 4,
 "nbformat_minor": 2
}
