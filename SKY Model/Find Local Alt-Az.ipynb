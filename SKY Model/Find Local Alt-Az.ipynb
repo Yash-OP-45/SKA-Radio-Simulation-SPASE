{
 "cells": [
  {
   "cell_type": "code",
   "execution_count": 25,
   "metadata": {},
   "outputs": [
    {
     "data": {
      "text/plain": [
       "(0.0001727842518326517, -45.09531267863287)"
      ]
     },
     "execution_count": 25,
     "metadata": {},
     "output_type": "execute_result"
    }
   ],
   "source": [
    "import astropy\n",
    "from astropy.coordinates import EarthLocation, AltAz\n",
    "from astropy.time import Time\n",
    "import astropy.units as u\n",
    "\n",
    "#Point of Interest (remains the same: F-110, Hall5, IITK)\n",
    "curr_location=EarthLocation(lat=90*u.deg,lon=0*u.deg,height=0*u.m)\n",
    "\n",
    "#Now Reference is Earth's Centre\n",
    "centre_of_earth = EarthLocation(lat=0*u.deg, lon=0*u.deg, height=0*u.m)\n",
    "\n",
    "time = Time('2024-06-11 06:00:00')  \n",
    "\n",
    "\n",
    "# Convert to AltAz frame\n",
    "altaz = curr_location.get_gcrs(time).transform_to(AltAz(obstime=time, location=centre_of_earth))\n",
    "\n",
    "# Print the azimuth and altitude\n",
    "azimuth = altaz.az.deg\n",
    "altitude = altaz.alt.deg\n",
    "\n",
    "azimuth, altitude\n"
   ]
  }
 ],
 "metadata": {
  "kernelspec": {
   "display_name": "Python 3",
   "language": "python",
   "name": "python3"
  },
  "language_info": {
   "codemirror_mode": {
    "name": "ipython",
    "version": 3
   },
   "file_extension": ".py",
   "mimetype": "text/x-python",
   "name": "python",
   "nbconvert_exporter": "python",
   "pygments_lexer": "ipython3",
   "version": "3.11.4"
  }
 },
 "nbformat": 4,
 "nbformat_minor": 2
}
