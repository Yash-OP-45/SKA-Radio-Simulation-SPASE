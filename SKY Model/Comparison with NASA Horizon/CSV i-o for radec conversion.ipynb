{
 "cells": [
  {
   "cell_type": "code",
   "execution_count": 7,
   "metadata": {},
   "outputs": [],
   "source": [
    "import csv\n",
    "import astropy\n",
    "from astropy.coordinates import SkyCoord\n",
    "\n",
    "\n",
    "input_file='radec_hhmmss.csv'\n",
    "output_file='radec_degree.csv'\n",
    "\n",
    "with open(input_file, 'r') as csvfile:\n",
    "    reader = csv.reader(csvfile)\n",
    "    with open(output_file, 'w', newline='') as csvwrite:\n",
    "        writer = csv.writer(csvwrite)\n",
    "        writer.writerow(['ra_deg','dec_deg'])\n",
    "        for row in reader:\n",
    "            ra=row[0]\n",
    "            dec=row[1]\n",
    "            sky_coord_obj= SkyCoord(ra=ra, dec=dec, unit=('hourangle','deg'))\n",
    "            ra_deg=sky_coord_obj.ra.deg\n",
    "            dec_deg=sky_coord_obj.dec.deg\n",
    "            writer.writerow([ra_deg,dec_deg])\n",
    "            "
   ]
  }
 ],
 "metadata": {
  "kernelspec": {
   "display_name": "Python 3",
   "language": "python",
   "name": "python3"
  },
  "language_info": {
   "codemirror_mode": {
    "name": "ipython",
    "version": 3
   },
   "file_extension": ".py",
   "mimetype": "text/x-python",
   "name": "python",
   "nbconvert_exporter": "python",
   "pygments_lexer": "ipython3",
   "version": "3.11.4"
  }
 },
 "nbformat": 4,
 "nbformat_minor": 2
}
