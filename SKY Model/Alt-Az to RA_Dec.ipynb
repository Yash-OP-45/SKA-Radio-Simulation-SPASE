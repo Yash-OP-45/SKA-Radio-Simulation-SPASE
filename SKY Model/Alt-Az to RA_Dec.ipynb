{
 "cells": [
  {
   "cell_type": "code",
   "execution_count": 9,
   "metadata": {},
   "outputs": [
    {
     "ename": "ConvertError",
     "evalue": "Cannot transform from <class 'astropy.coordinates.builtin_frames.altaz.AltAz'> to <class 'str'>",
     "output_type": "error",
     "traceback": [
      "\u001b[1;31m---------------------------------------------------------------------------\u001b[0m",
      "\u001b[1;31mConvertError\u001b[0m                              Traceback (most recent call last)",
      "Cell \u001b[1;32mIn[9], line 14\u001b[0m\n\u001b[0;32m     11\u001b[0m time\u001b[38;5;241m=\u001b[39mTime(\u001b[38;5;124m'\u001b[39m\u001b[38;5;124m2024-06-11 02:20:30\u001b[39m\u001b[38;5;124m'\u001b[39m) \n\u001b[0;32m     12\u001b[0m alt_az \u001b[38;5;241m=\u001b[39m AltAz(alt\u001b[38;5;241m=\u001b[39m\u001b[38;5;241m71.041773\u001b[39m\u001b[38;5;241m*\u001b[39mu\u001b[38;5;241m.\u001b[39mdeg, az\u001b[38;5;241m=\u001b[39m\u001b[38;5;241m80.565707\u001b[39m\u001b[38;5;241m*\u001b[39mu\u001b[38;5;241m.\u001b[39mdeg, location\u001b[38;5;241m=\u001b[39mcurr_location, obstime\u001b[38;5;241m=\u001b[39mtime)\n\u001b[1;32m---> 14\u001b[0m RA_Dec\u001b[38;5;241m=\u001b[39m\u001b[43malt_az\u001b[49m\u001b[38;5;241;43m.\u001b[39;49m\u001b[43mtransform_to\u001b[49m\u001b[43m(\u001b[49m\u001b[38;5;124;43m'\u001b[39;49m\u001b[38;5;124;43micrs\u001b[39;49m\u001b[38;5;124;43m'\u001b[39;49m\u001b[43m)\u001b[49m\n\u001b[0;32m     16\u001b[0m \u001b[38;5;28mprint\u001b[39m(RA_Dec)\n",
      "File \u001b[1;32mc:\\Users\\Yash Giri\\AppData\\Local\\Programs\\Python\\Python311\\Lib\\site-packages\\astropy\\coordinates\\baseframe.py:1282\u001b[0m, in \u001b[0;36mBaseCoordinateFrame.transform_to\u001b[1;34m(self, new_frame)\u001b[0m\n\u001b[0;32m   1280\u001b[0m         \u001b[38;5;28;01mreturn\u001b[39;00m new_frame\u001b[38;5;241m.\u001b[39mrealize_frame(\u001b[38;5;28mself\u001b[39m\u001b[38;5;241m.\u001b[39mdata)\n\u001b[0;32m   1281\u001b[0m     msg \u001b[38;5;241m=\u001b[39m \u001b[38;5;124m\"\u001b[39m\u001b[38;5;124mCannot transform from \u001b[39m\u001b[38;5;132;01m{0}\u001b[39;00m\u001b[38;5;124m to \u001b[39m\u001b[38;5;132;01m{1}\u001b[39;00m\u001b[38;5;124m\"\u001b[39m\n\u001b[1;32m-> 1282\u001b[0m     \u001b[38;5;28;01mraise\u001b[39;00m ConvertError(msg\u001b[38;5;241m.\u001b[39mformat(\u001b[38;5;28mself\u001b[39m\u001b[38;5;241m.\u001b[39m\u001b[38;5;18m__class__\u001b[39m, new_frame\u001b[38;5;241m.\u001b[39m\u001b[38;5;18m__class__\u001b[39m))\n\u001b[0;32m   1283\u001b[0m \u001b[38;5;28;01mreturn\u001b[39;00m trans(\u001b[38;5;28mself\u001b[39m, new_frame)\n",
      "\u001b[1;31mConvertError\u001b[0m: Cannot transform from <class 'astropy.coordinates.builtin_frames.altaz.AltAz'> to <class 'str'>"
     ]
    }
   ],
   "source": [
    "from astropy.coordinates import AltAz, EarthLocation\n",
    "from astropy.coordinates import SkyCoord\n",
    "from astropy.time import Time\n",
    "import astropy.units as u\n",
    "\n",
    "latitude=26.509951955711866*u.deg\n",
    "longitude=80.22809216211232*u.deg\n",
    "elevation=123.51*u.m\n",
    "\n",
    "curr_location=EarthLocation(lat=latitude,lon=longitude,height=elevation)\n",
    "\n",
    "time=Time('2024-06-11 02:20:30') \n",
    "alt_az = AltAz(alt=71.041773*u.deg, az=80.565707*u.deg, location=curr_location, obstime=time)\n",
    "\n",
    "RA_Dec=alt_az.transform_to('icrs')\n",
    "\n",
    "print(RA_Dec)\n",
    "\n",
    "\n",
    "\n"
   ]
  }
 ],
 "metadata": {
  "kernelspec": {
   "display_name": "Python 3",
   "language": "python",
   "name": "python3"
  },
  "language_info": {
   "codemirror_mode": {
    "name": "ipython",
    "version": 3
   },
   "file_extension": ".py",
   "mimetype": "text/x-python",
   "name": "python",
   "nbconvert_exporter": "python",
   "pygments_lexer": "ipython3",
   "version": "3.11.4"
  }
 },
 "nbformat": 4,
 "nbformat_minor": 2
}
