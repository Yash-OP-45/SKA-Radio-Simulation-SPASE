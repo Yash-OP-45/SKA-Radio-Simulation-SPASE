{
 "cells": [
  {
   "cell_type": "code",
   "execution_count": 3,
   "metadata": {},
   "outputs": [
    {
     "name": "stdout",
     "output_type": "stream",
     "text": [
      "<SkyCoord (ICRS): (ra, dec) in deg\n",
      "    (79.6422468, 23.09426525)>\n"
     ]
    }
   ],
   "source": [
    "from astropy.coordinates import AltAz, EarthLocation\n",
    "from astropy.coordinates import SkyCoord\n",
    "from astropy.time import Time\n",
    "import astropy.units as u\n",
    "\n",
    "#Observation Point (Can be Changed)\n",
    "print(\"### Observatory Coordinates ###\")\n",
    "LAT=float(input(\"Enter Latitude (in deg):\")) \n",
    "LONG=float(input(\"Enter Longitude (in deg):\")) \n",
    "ELEV=float(input(\"Enter Elevation (in m):\")) \n",
    "    \n",
    "latitude = LAT * u.deg\n",
    "longitude = LONG * u.deg\n",
    "elevation = ELEV * u.m\n",
    "\n",
    "#alt-az in degree(Target:Sun; Source: NASA Horizon)\n",
    "alt = float(input(\"Enter Altitude (-90 to +90):\"))\n",
    "az = float(input(\"Enter Azimuth(0 to 360):\"))\n",
    "curr_location=EarthLocation(lat=latitude,lon=longitude,height=elevation)\n",
    "\n",
    "time=Time('2024-06-11 06:00:00') \n",
    "alt_az = AltAz(location=curr_location, obstime=time)\n",
    "\n",
    "sky_coord_obj=SkyCoord(alt=alt * u.deg, az=az * u.deg, frame=alt_az)\n",
    "\n",
    "RA_Dec=sky_coord_obj.transform_to('icrs')\n",
    "\n",
    "print(RA_Dec)\n",
    "\n",
    "\n",
    "\n"
   ]
  }
 ],
 "metadata": {
  "kernelspec": {
   "display_name": "Python 3",
   "language": "python",
   "name": "python3"
  },
  "language_info": {
   "codemirror_mode": {
    "name": "ipython",
    "version": 3
   },
   "file_extension": ".py",
   "mimetype": "text/x-python",
   "name": "python",
   "nbconvert_exporter": "python",
   "pygments_lexer": "ipython3",
   "version": "3.11.4"
  }
 },
 "nbformat": 4,
 "nbformat_minor": 2
}
