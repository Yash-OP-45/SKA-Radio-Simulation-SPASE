{
 "cells": [
  {
   "cell_type": "code",
   "execution_count": 12,
   "metadata": {},
   "outputs": [
    {
     "name": "stdout",
     "output_type": "stream",
     "text": [
      "79.72745833333332 23.10002777777778\n"
     ]
    }
   ],
   "source": [
    "from astropy.coordinates import SkyCoord\n",
    "ra = \"05 18 54.59\"\n",
    "dec = \"+23 06 00.1\"\n",
    "sky_coord_obj= SkyCoord(ra=ra, dec=dec, unit=('hourangle', 'deg'))\n",
    "ra_deg = sky_coord_obj.ra.deg\n",
    "dec_deg = sky_coord_obj.dec.deg\n",
    "print(ra_deg,dec_deg)\n"
   ]
  }
 ],
 "metadata": {
  "kernelspec": {
   "display_name": "Python 3",
   "language": "python",
   "name": "python3"
  },
  "language_info": {
   "codemirror_mode": {
    "name": "ipython",
    "version": 3
   },
   "file_extension": ".py",
   "mimetype": "text/x-python",
   "name": "python",
   "nbconvert_exporter": "python",
   "pygments_lexer": "ipython3",
   "version": "3.11.4"
  }
 },
 "nbformat": 4,
 "nbformat_minor": 2
}
