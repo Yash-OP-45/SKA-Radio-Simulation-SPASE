{
 "cells": [
  {
   "cell_type": "code",
   "execution_count": 1,
   "metadata": {},
   "outputs": [],
   "source": [
    "import numpy as np\n",
    "import oskar\n",
    "from oskar import Sky\n",
    "\n"
   ]
  },
  {
   "cell_type": "code",
   "execution_count": 3,
   "metadata": {},
   "outputs": [
    {
     "name": "stdout",
     "output_type": "stream",
     "text": [
      "(19, 13)\n"
     ]
    },
    {
     "ename": "RuntimeError",
     "evalue": "OSKAR library not found.",
     "output_type": "error",
     "traceback": [
      "\u001b[1;31m---------------------------------------------------------------------------\u001b[0m",
      "\u001b[1;31mRuntimeError\u001b[0m                              Traceback (most recent call last)",
      "Cell \u001b[1;32mIn[3], line 4\u001b[0m\n\u001b[0;32m      2\u001b[0m data \u001b[38;5;241m=\u001b[39m np\u001b[38;5;241m.\u001b[39mgenfromtxt(oskar_skymodel_format, delimiter\u001b[38;5;241m=\u001b[39m\u001b[38;5;124m'\u001b[39m\u001b[38;5;124m,\u001b[39m\u001b[38;5;124m'\u001b[39m, skip_header\u001b[38;5;241m=\u001b[39m\u001b[38;5;241m1\u001b[39m)\n\u001b[0;32m      3\u001b[0m \u001b[38;5;28mprint\u001b[39m(data\u001b[38;5;241m.\u001b[39mshape)\n\u001b[1;32m----> 4\u001b[0m skymodel \u001b[38;5;241m=\u001b[39m \u001b[43mSky\u001b[49m\u001b[43m(\u001b[49m\u001b[43m)\u001b[49m\n\u001b[0;32m      5\u001b[0m sky\u001b[38;5;241m=\u001b[39mSky\u001b[38;5;241m.\u001b[39mload(\u001b[38;5;124m\"\u001b[39m\u001b[38;5;124mD:\u001b[39m\u001b[38;5;124m\\\u001b[39m\u001b[38;5;124mProject - Simulation of the nightsky\u001b[39m\u001b[38;5;124m\\\u001b[39m\u001b[38;5;124mFirst Simulation\u001b[39m\u001b[38;5;124m\\\u001b[39m\u001b[38;5;124mOSKAR-2.7-Example-Data\u001b[39m\u001b[38;5;124m\\\u001b[39m\u001b[38;5;124msky.txt\u001b[39m\u001b[38;5;124m\"\u001b[39m)\n",
      "File \u001b[1;32mc:\\Users\\Yash Giri\\AppData\\Local\\Programs\\Python\\Python311\\Lib\\site-packages\\oskar\\sky.py:195\u001b[0m, in \u001b[0;36mSky.__init__\u001b[1;34m(self, precision, settings)\u001b[0m\n\u001b[0;32m    185\u001b[0m \u001b[38;5;250m\u001b[39m\u001b[38;5;124;03m\"\"\"Creates an OSKAR sky model.\u001b[39;00m\n\u001b[0;32m    186\u001b[0m \n\u001b[0;32m    187\u001b[0m \u001b[38;5;124;03mArgs:\u001b[39;00m\n\u001b[1;32m   (...)\u001b[0m\n\u001b[0;32m    192\u001b[0m \u001b[38;5;124;03m        Optional settings to use to set up the sky model.\u001b[39;00m\n\u001b[0;32m    193\u001b[0m \u001b[38;5;124;03m\"\"\"\u001b[39;00m\n\u001b[0;32m    194\u001b[0m \u001b[38;5;28;01mif\u001b[39;00m _sky_lib \u001b[38;5;129;01mis\u001b[39;00m \u001b[38;5;28;01mNone\u001b[39;00m:\n\u001b[1;32m--> 195\u001b[0m     \u001b[38;5;28;01mraise\u001b[39;00m \u001b[38;5;167;01mRuntimeError\u001b[39;00m(\u001b[38;5;124m\"\u001b[39m\u001b[38;5;124mOSKAR library not found.\u001b[39m\u001b[38;5;124m\"\u001b[39m)\n\u001b[0;32m    196\u001b[0m \u001b[38;5;28mself\u001b[39m\u001b[38;5;241m.\u001b[39m_capsule \u001b[38;5;241m=\u001b[39m \u001b[38;5;28;01mNone\u001b[39;00m\n\u001b[0;32m    197\u001b[0m \u001b[38;5;28;01mif\u001b[39;00m precision \u001b[38;5;129;01mis\u001b[39;00m \u001b[38;5;129;01mnot\u001b[39;00m \u001b[38;5;28;01mNone\u001b[39;00m \u001b[38;5;129;01mand\u001b[39;00m settings \u001b[38;5;129;01mis\u001b[39;00m \u001b[38;5;129;01mnot\u001b[39;00m \u001b[38;5;28;01mNone\u001b[39;00m:\n",
      "\u001b[1;31mRuntimeError\u001b[0m: OSKAR library not found."
     ]
    }
   ],
   "source": [
    "oskar_skymodel_format= r'D:\\Project-Simulation of the nightsky\\First Simulation\\SKY Model\\OSKAR Skymodel format\\altaz to radec to OSKAR SkyModel format_copy.csv'\n",
    "data = np.genfromtxt(oskar_skymodel_format, delimiter=',', skip_header=1)\n",
    "print(data.shape)\n",
    "skymodel = Sky()\n",
    "sky=Sky.load(\"D:\\Project - Simulation of the nightsky\\First Simulation\\OSKAR-2.7-Example-Data\\sky.txt\")\n"
   ]
  },
  {
   "cell_type": "code",
   "execution_count": 27,
   "metadata": {},
   "outputs": [
    {
     "ename": "RuntimeError",
     "evalue": "OSKAR library not found.",
     "output_type": "error",
     "traceback": [
      "\u001b[1;31m---------------------------------------------------------------------------\u001b[0m",
      "\u001b[1;31mRuntimeError\u001b[0m                              Traceback (most recent call last)",
      "Cell \u001b[1;32mIn[27], line 1\u001b[0m\n\u001b[1;32m----> 1\u001b[0m sky \u001b[38;5;241m=\u001b[39m \u001b[43moskar\u001b[49m\u001b[38;5;241;43m.\u001b[39;49m\u001b[43mSky\u001b[49m\u001b[38;5;241;43m.\u001b[39;49m\u001b[43mfrom_array\u001b[49m\u001b[43m(\u001b[49m\u001b[43mdata\u001b[49m\u001b[43m)\u001b[49m\n\u001b[0;32m      2\u001b[0m \u001b[38;5;28mprint\u001b[39m(sky\u001b[38;5;241m.\u001b[39mnum_sources)\n",
      "File \u001b[1;32mc:\\Users\\Yash Giri\\AppData\\Local\\Programs\\Python\\Python311\\Lib\\site-packages\\oskar\\sky.py:367\u001b[0m, in \u001b[0;36mSky.from_array\u001b[1;34m(cls, array, precision)\u001b[0m\n\u001b[0;32m    343\u001b[0m \u001b[38;5;250m\u001b[39m\u001b[38;5;124;03m\"\"\"Creates a new sky model from a 2D numpy array.\u001b[39;00m\n\u001b[0;32m    344\u001b[0m \n\u001b[0;32m    345\u001b[0m \u001b[38;5;124;03mThe format of the array is the same as that in sky model text files.\u001b[39;00m\n\u001b[1;32m   (...)\u001b[0m\n\u001b[0;32m    364\u001b[0m \u001b[38;5;124;03m    oskar.Sky: The new sky model.\u001b[39;00m\n\u001b[0;32m    365\u001b[0m \u001b[38;5;124;03m\"\"\"\u001b[39;00m\n\u001b[0;32m    366\u001b[0m \u001b[38;5;28;01mif\u001b[39;00m _sky_lib \u001b[38;5;129;01mis\u001b[39;00m \u001b[38;5;28;01mNone\u001b[39;00m:\n\u001b[1;32m--> 367\u001b[0m   \u001b[38;5;28;01mraise\u001b[39;00m \u001b[38;5;167;01mRuntimeError\u001b[39;00m(\u001b[38;5;124m\"\u001b[39m\u001b[38;5;124mOSKAR library not found.\u001b[39m\u001b[38;5;124m\"\u001b[39m)\n\u001b[0;32m    368\u001b[0m t \u001b[38;5;241m=\u001b[39m Sky()\n\u001b[0;32m    369\u001b[0m t\u001b[38;5;241m.\u001b[39mcapsule \u001b[38;5;241m=\u001b[39m _sky_lib\u001b[38;5;241m.\u001b[39mfrom_array(array, precision)\n",
      "\u001b[1;31mRuntimeError\u001b[0m: OSKAR library not found."
     ]
    }
   ],
   "source": [
    "sky = oskar.Sky.from_array(data)\n",
    "print(sky.num_sources)"
   ]
  }
 ],
 "metadata": {
  "kernelspec": {
   "display_name": "Python 3",
   "language": "python",
   "name": "python3"
  },
  "language_info": {
   "codemirror_mode": {
    "name": "ipython",
    "version": 3
   },
   "file_extension": ".py",
   "mimetype": "text/x-python",
   "name": "python",
   "nbconvert_exporter": "python",
   "pygments_lexer": "ipython3",
   "version": "3.11.4"
  }
 },
 "nbformat": 4,
 "nbformat_minor": 2
}
