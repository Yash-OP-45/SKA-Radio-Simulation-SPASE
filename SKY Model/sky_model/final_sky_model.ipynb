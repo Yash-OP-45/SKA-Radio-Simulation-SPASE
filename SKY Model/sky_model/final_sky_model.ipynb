{
 "cells": [
  {
   "cell_type": "code",
   "execution_count": 1,
   "metadata": {},
   "outputs": [],
   "source": [
    "import numpy as np\n",
    "import oskar\n",
    "from oskar import Sky\n",
    "\n",
    "\n"
   ]
  },
  {
   "cell_type": "code",
   "execution_count": 4,
   "metadata": {},
   "outputs": [],
   "source": [
    "#oskar_skymodel_format= r'/home/yash-op-45/Documents/simulation-ska/test_files/altaz to radec to OSKAR SkyModel format_copy.csv'\n",
    "#data = np.genfromtxt(oskar_skymodel_format, delimiter=',', skip_header=1)\n",
    "#print(data.shape)\n",
    "skymodel = Sky()\n",
    "sky=Sky.load(r\"/home/yash-op-45/Documents/simulation-ska/test_files/sky.txt\")\n"
   ]
  },
  {
   "cell_type": "code",
   "execution_count": 6,
   "metadata": {},
   "outputs": [
    {
     "ename": "RuntimeError",
     "evalue": "Too many source parameters.",
     "output_type": "error",
     "traceback": [
      "\u001b[0;31m---------------------------------------------------------------------------\u001b[0m",
      "\u001b[0;31mRuntimeError\u001b[0m                              Traceback (most recent call last)",
      "Cell \u001b[0;32mIn[6], line 1\u001b[0m\n\u001b[0;32m----> 1\u001b[0m sky \u001b[38;5;241m=\u001b[39m \u001b[43moskar\u001b[49m\u001b[38;5;241;43m.\u001b[39;49m\u001b[43mSky\u001b[49m\u001b[38;5;241;43m.\u001b[39;49m\u001b[43mfrom_array\u001b[49m\u001b[43m(\u001b[49m\u001b[43mdata\u001b[49m\u001b[43m)\u001b[49m\n\u001b[1;32m      2\u001b[0m \u001b[38;5;28mprint\u001b[39m(sky\u001b[38;5;241m.\u001b[39mnum_sources)\n",
      "File \u001b[0;32m~/.local/lib/python3.8/site-packages/oskar/sky.py:346\u001b[0m, in \u001b[0;36mSky.from_array\u001b[0;34m(cls, array, precision)\u001b[0m\n\u001b[1;32m    344\u001b[0m     \u001b[38;5;28;01mraise\u001b[39;00m \u001b[38;5;167;01mRuntimeError\u001b[39;00m(\u001b[38;5;124m\"\u001b[39m\u001b[38;5;124mOSKAR library not found.\u001b[39m\u001b[38;5;124m\"\u001b[39m)\n\u001b[1;32m    345\u001b[0m t \u001b[38;5;241m=\u001b[39m Sky()\n\u001b[0;32m--> 346\u001b[0m t\u001b[38;5;241m.\u001b[39mcapsule \u001b[38;5;241m=\u001b[39m \u001b[43m_sky_lib\u001b[49m\u001b[38;5;241;43m.\u001b[39;49m\u001b[43mfrom_array\u001b[49m\u001b[43m(\u001b[49m\u001b[43marray\u001b[49m\u001b[43m,\u001b[49m\u001b[43m \u001b[49m\u001b[43mprecision\u001b[49m\u001b[43m)\u001b[49m\n\u001b[1;32m    347\u001b[0m \u001b[38;5;28;01mreturn\u001b[39;00m t\n",
      "\u001b[0;31mRuntimeError\u001b[0m: Too many source parameters."
     ]
    }
   ],
   "source": [
    "sky = oskar.Sky.from_array(data)\n",
    "print(sky.num_sources)"
   ]
  },
  {
   "cell_type": "code",
   "execution_count": 7,
   "metadata": {},
   "outputs": [
    {
     "name": "stdout",
     "output_type": "stream",
     "text": [
      "3\n"
     ]
    }
   ],
   "source": [
    "# Specifying only RA, Dec and Stokes I (other columns default to 0).\n",
    "\n",
    "data = np.array([[20.0, -30.0, 1],\n",
    "                        [20.0, -30.5, 3],\n",
    "                        [20.5, -30.5, 3]])\n",
    "\n",
    "sky = oskar.Sky.from_array(data)\n",
    "\n",
    "print(sky.num_sources)"
   ]
  },
  {
   "cell_type": "code",
   "execution_count": 8,
   "metadata": {},
   "outputs": [
    {
     "name": "stdout",
     "output_type": "stream",
     "text": [
      "100000\n"
     ]
    }
   ],
   "source": [
    "sky = oskar.Sky.generate_random_power_law(100000, 1e-3, 100e-3, -2)\n",
    "\n",
    "print(sky.num_sources)"
   ]
  },
  {
   "cell_type": "code",
   "execution_count": 9,
   "metadata": {},
   "outputs": [
    {
     "name": "stdout",
     "output_type": "stream",
     "text": [
      "1429\n"
     ]
    }
   ],
   "source": [
    "ra0 = 0\n",
    "dec0 = 80\n",
    "sky.filter_by_radius(5, 15, ra0, dec0)\n",
    "print(sky.num_sources)"
   ]
  },
  {
   "cell_type": "code",
   "execution_count": null,
   "metadata": {},
   "outputs": [],
   "source": [
    "from astropy.io import fits\n",
    "\n",
    "hdulist = fits.open(r'/home/yash-op-45/Documents/simulation-ska/test_files/vogtstar_awt.fits')\n",
    "\n",
    "cols = hdulist[1].data[0].array\n",
    "\n",
    "data = np.column_stack(\n",
    "        (cols['RAJ2000'], cols['DEJ2000'], cols['peak_flux_wide']))\n",
    "\n",
    "sky = oskar.Sky.from_array(data)\n",
    "\n",
    "print(sky.num_sources)\n",
    "307455"
   ]
  }
 ],
 "metadata": {
  "kernelspec": {
   "display_name": "Python 3",
   "language": "python",
   "name": "python3"
  },
  "language_info": {
   "codemirror_mode": {
    "name": "ipython",
    "version": 3
   },
   "file_extension": ".py",
   "mimetype": "text/x-python",
   "name": "python",
   "nbconvert_exporter": "python",
   "pygments_lexer": "ipython3",
   "version": "3.8.10"
  }
 },
 "nbformat": 4,
 "nbformat_minor": 2
}
