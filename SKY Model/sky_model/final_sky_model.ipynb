{
 "cells": [
  {
   "cell_type": "code",
   "execution_count": 4,
   "metadata": {},
   "outputs": [],
   "source": [
    "import numpy as np\n",
    "import oskar\n",
    "from oskar import Sky\n",
    "import astropy\n",
    "\n",
    "\n",
    "\n"
   ]
  },
  {
   "cell_type": "code",
   "execution_count": 5,
   "metadata": {},
   "outputs": [
    {
     "name": "stdout",
     "output_type": "stream",
     "text": [
      "(19, 13)\n"
     ]
    },
    {
     "ename": "TypeError",
     "evalue": "argument 1 must be str, not numpy.ndarray",
     "output_type": "error",
     "traceback": [
      "\u001b[0;31m---------------------------------------------------------------------------\u001b[0m",
      "\u001b[0;31mTypeError\u001b[0m                                 Traceback (most recent call last)",
      "Cell \u001b[0;32mIn[5], line 5\u001b[0m\n\u001b[1;32m      3\u001b[0m \u001b[38;5;28mprint\u001b[39m(data\u001b[38;5;241m.\u001b[39mshape)\n\u001b[1;32m      4\u001b[0m skymodel \u001b[38;5;241m=\u001b[39m Sky()\n\u001b[0;32m----> 5\u001b[0m sky\u001b[38;5;241m=\u001b[39m\u001b[43mSky\u001b[49m\u001b[38;5;241;43m.\u001b[39;49m\u001b[43mload\u001b[49m\u001b[43m(\u001b[49m\u001b[43mdata\u001b[49m\u001b[43m)\u001b[49m\n",
      "File \u001b[0;32m~/.local/lib/python3.8/site-packages/oskar/sky.py:456\u001b[0m, in \u001b[0;36mSky.load\u001b[0;34m(cls, filename, precision)\u001b[0m\n\u001b[1;32m    454\u001b[0m     \u001b[38;5;28;01mraise\u001b[39;00m \u001b[38;5;167;01mRuntimeError\u001b[39;00m(\u001b[38;5;124m\"\u001b[39m\u001b[38;5;124mOSKAR library not found.\u001b[39m\u001b[38;5;124m\"\u001b[39m)\n\u001b[1;32m    455\u001b[0m t \u001b[38;5;241m=\u001b[39m Sky()\n\u001b[0;32m--> 456\u001b[0m t\u001b[38;5;241m.\u001b[39mcapsule \u001b[38;5;241m=\u001b[39m \u001b[43m_sky_lib\u001b[49m\u001b[38;5;241;43m.\u001b[39;49m\u001b[43mload\u001b[49m\u001b[43m(\u001b[49m\u001b[43mfilename\u001b[49m\u001b[43m,\u001b[49m\u001b[43m \u001b[49m\u001b[43mprecision\u001b[49m\u001b[43m)\u001b[49m\n\u001b[1;32m    457\u001b[0m \u001b[38;5;28;01mreturn\u001b[39;00m t\n",
      "\u001b[0;31mTypeError\u001b[0m: argument 1 must be str, not numpy.ndarray"
     ]
    }
   ],
   "source": [
    "oskar_skymodel_format= r'/home/yash-op-45/Documents/simulation-ska/test_files/altaz to radec to OSKAR SkyModel format_copy.csv'\n",
    "data = np.genfromtxt(oskar_skymodel_format, delimiter=',', skip_header=1)\n",
    "print(data.shape)\n",
    "skymodel = Sky()\n",
    "sky=Sky.load(data)\n"
   ]
  },
  {
   "cell_type": "code",
   "execution_count": 6,
   "metadata": {},
   "outputs": [
    {
     "ename": "RuntimeError",
     "evalue": "Too many source parameters.",
     "output_type": "error",
     "traceback": [
      "\u001b[0;31m---------------------------------------------------------------------------\u001b[0m",
      "\u001b[0;31mRuntimeError\u001b[0m                              Traceback (most recent call last)",
      "Cell \u001b[0;32mIn[6], line 1\u001b[0m\n\u001b[0;32m----> 1\u001b[0m sky \u001b[38;5;241m=\u001b[39m \u001b[43moskar\u001b[49m\u001b[38;5;241;43m.\u001b[39;49m\u001b[43mSky\u001b[49m\u001b[38;5;241;43m.\u001b[39;49m\u001b[43mfrom_array\u001b[49m\u001b[43m(\u001b[49m\u001b[43mdata\u001b[49m\u001b[43m)\u001b[49m\n\u001b[1;32m      2\u001b[0m \u001b[38;5;28mprint\u001b[39m(sky\u001b[38;5;241m.\u001b[39mnum_sources)\n",
      "File \u001b[0;32m~/.local/lib/python3.8/site-packages/oskar/sky.py:346\u001b[0m, in \u001b[0;36mSky.from_array\u001b[0;34m(cls, array, precision)\u001b[0m\n\u001b[1;32m    344\u001b[0m     \u001b[38;5;28;01mraise\u001b[39;00m \u001b[38;5;167;01mRuntimeError\u001b[39;00m(\u001b[38;5;124m\"\u001b[39m\u001b[38;5;124mOSKAR library not found.\u001b[39m\u001b[38;5;124m\"\u001b[39m)\n\u001b[1;32m    345\u001b[0m t \u001b[38;5;241m=\u001b[39m Sky()\n\u001b[0;32m--> 346\u001b[0m t\u001b[38;5;241m.\u001b[39mcapsule \u001b[38;5;241m=\u001b[39m \u001b[43m_sky_lib\u001b[49m\u001b[38;5;241;43m.\u001b[39;49m\u001b[43mfrom_array\u001b[49m\u001b[43m(\u001b[49m\u001b[43marray\u001b[49m\u001b[43m,\u001b[49m\u001b[43m \u001b[49m\u001b[43mprecision\u001b[49m\u001b[43m)\u001b[49m\n\u001b[1;32m    347\u001b[0m \u001b[38;5;28;01mreturn\u001b[39;00m t\n",
      "\u001b[0;31mRuntimeError\u001b[0m: Too many source parameters."
     ]
    }
   ],
   "source": [
    "sky = oskar.Sky.from_array(data)\n",
    "print(sky.num_sources)"
   ]
  },
  {
   "cell_type": "code",
   "execution_count": 7,
   "metadata": {},
   "outputs": [
    {
     "name": "stdout",
     "output_type": "stream",
     "text": [
      "3\n"
     ]
    }
   ],
   "source": [
    "# Specifying only RA, Dec and Stokes I (other columns default to 0).\n",
    "\n",
    "data = np.array([[20.0, -30.0, 1],\n",
    "                        [20.0, -30.5, 3],\n",
    "                        [20.5, -30.5, 3]])\n",
    "\n",
    "sky = oskar.Sky.from_array(data)\n",
    "\n",
    "print(sky.num_sources)"
   ]
  },
  {
   "cell_type": "code",
   "execution_count": 8,
   "metadata": {},
   "outputs": [
    {
     "name": "stdout",
     "output_type": "stream",
     "text": [
      "100000\n"
     ]
    }
   ],
   "source": [
    "sky = oskar.Sky.generate_random_power_law(100000, 1e-3, 100e-3, -2)\n",
    "\n",
    "print(sky.num_sources)"
   ]
  },
  {
   "cell_type": "code",
   "execution_count": 9,
   "metadata": {},
   "outputs": [
    {
     "name": "stdout",
     "output_type": "stream",
     "text": [
      "1429\n"
     ]
    }
   ],
   "source": [
    "ra0 = 0\n",
    "dec0 = 80\n",
    "sky.filter_by_radius(5, 15, ra0, dec0)\n",
    "print(sky.num_sources)"
   ]
  },
  {
   "cell_type": "code",
   "execution_count": 2,
   "metadata": {},
   "outputs": [
    {
     "ename": "AttributeError",
     "evalue": "'numpy.float32' object has no attribute 'array'",
     "output_type": "error",
     "traceback": [
      "\u001b[0;31m---------------------------------------------------------------------------\u001b[0m",
      "\u001b[0;31mAttributeError\u001b[0m                            Traceback (most recent call last)",
      "Cell \u001b[0;32mIn[2], line 5\u001b[0m\n\u001b[1;32m      1\u001b[0m \u001b[38;5;28;01mfrom\u001b[39;00m \u001b[38;5;21;01mastropy\u001b[39;00m\u001b[38;5;21;01m.\u001b[39;00m\u001b[38;5;21;01mio\u001b[39;00m \u001b[38;5;28;01mimport\u001b[39;00m fits\n\u001b[1;32m      3\u001b[0m hdulist \u001b[38;5;241m=\u001b[39m fits\u001b[38;5;241m.\u001b[39mopen(\u001b[38;5;124mr\u001b[39m\u001b[38;5;124m'\u001b[39m\u001b[38;5;124m/home/yash-op-45/Documents/simulation-ska/test_files/vogtstar_awt.fits\u001b[39m\u001b[38;5;124m'\u001b[39m)\n\u001b[0;32m----> 5\u001b[0m cols \u001b[38;5;241m=\u001b[39m \u001b[43mhdulist\u001b[49m\u001b[43m[\u001b[49m\u001b[38;5;241;43m1\u001b[39;49m\u001b[43m]\u001b[49m\u001b[38;5;241;43m.\u001b[39;49m\u001b[43mdata\u001b[49m\u001b[43m[\u001b[49m\u001b[38;5;241;43m0\u001b[39;49m\u001b[43m]\u001b[49m\u001b[38;5;241;43m.\u001b[39;49m\u001b[43marray\u001b[49m\n\u001b[1;32m      7\u001b[0m data \u001b[38;5;241m=\u001b[39m np\u001b[38;5;241m.\u001b[39mcolumn_stack(\n\u001b[1;32m      8\u001b[0m         (cols[\u001b[38;5;124m'\u001b[39m\u001b[38;5;124mRAJ2000\u001b[39m\u001b[38;5;124m'\u001b[39m], cols[\u001b[38;5;124m'\u001b[39m\u001b[38;5;124mDEJ2000\u001b[39m\u001b[38;5;124m'\u001b[39m], cols[\u001b[38;5;124m'\u001b[39m\u001b[38;5;124mpeak_flux_wide\u001b[39m\u001b[38;5;124m'\u001b[39m]))\n\u001b[1;32m     10\u001b[0m sky \u001b[38;5;241m=\u001b[39m oskar\u001b[38;5;241m.\u001b[39mSky\u001b[38;5;241m.\u001b[39mfrom_array(data)\n",
      "\u001b[0;31mAttributeError\u001b[0m: 'numpy.float32' object has no attribute 'array'"
     ]
    }
   ],
   "source": [
    "from astropy.io import fits\n",
    "\n",
    "hdulist = fits.open(r'/home/yash-op-45/Documents/simulation-ska/test_files/vogtstar_awt.fits')\n",
    "\n",
    "cols = hdulist[1].data[0].array\n",
    "\n",
    "data = np.column_stack(\n",
    "        (cols['RAJ2000'], cols['DEJ2000'], cols['peak_flux_wide']))\n",
    "\n",
    "sky = oskar.Sky.from_array(data)\n",
    "\n",
    "print(sky.num_sources)\n",
    "307455"
   ]
  },
  {
   "cell_type": "markdown",
   "metadata": {},
   "source": [
    "OSKAR Example Script- \"hello world\""
   ]
  },
  {
   "cell_type": "code",
   "execution_count": 13,
   "metadata": {},
   "outputs": [],
   "source": [
    "import matplotlib\n",
    "matplotlib.use(\"Agg\")\n",
    "import matplotlib.pyplot as plt\n",
    "import numpy\n",
    "import oskar"
   ]
  },
  {
   "cell_type": "code",
   "execution_count": 14,
   "metadata": {},
   "outputs": [
    {
     "ename": "RuntimeError",
     "evalue": "oskar_app_settings_tree() failed.",
     "output_type": "error",
     "traceback": [
      "\u001b[0;31m---------------------------------------------------------------------------\u001b[0m",
      "\u001b[0;31mRuntimeError\u001b[0m                              Traceback (most recent call last)",
      "Cell \u001b[0;32mIn[14], line 25\u001b[0m\n\u001b[1;32m      1\u001b[0m params \u001b[38;5;241m=\u001b[39m {\n\u001b[1;32m      2\u001b[0m     \u001b[38;5;124m\"\u001b[39m\u001b[38;5;124msimulator\u001b[39m\u001b[38;5;124m\"\u001b[39m: {\n\u001b[1;32m      3\u001b[0m         \u001b[38;5;124m\"\u001b[39m\u001b[38;5;124muse_gpus\u001b[39m\u001b[38;5;124m\"\u001b[39m: \u001b[38;5;28;01mTrue\u001b[39;00m\n\u001b[0;32m   (...)\u001b[0m\n\u001b[1;32m     23\u001b[0m     }\n\u001b[1;32m     24\u001b[0m }\n\u001b[0;32m---> 25\u001b[0m settings \u001b[38;5;241m=\u001b[39m \u001b[43moskar\u001b[49m\u001b[38;5;241;43m.\u001b[39;49m\u001b[43mSettingsTree\u001b[49m\u001b[43m(\u001b[49m\u001b[38;5;124;43m\"\u001b[39;49m\u001b[38;5;124;43m/home/yash-op-45/Documents/simulation-ska/test_files/oskar_sim_interferometer.ini\u001b[39;49m\u001b[38;5;124;43m\"\u001b[39;49m\u001b[43m)\u001b[49m\n\u001b[1;32m     26\u001b[0m settings\u001b[38;5;241m.\u001b[39mfrom_dict(params)\n",
      "File \u001b[0;32m~/.local/lib/python3.8/site-packages/oskar/settings_tree.py:144\u001b[0m, in \u001b[0;36mSettingsTree.__init__\u001b[0;34m(self, app, settings_file)\u001b[0m\n\u001b[1;32m    142\u001b[0m     \u001b[38;5;28mself\u001b[39m\u001b[38;5;241m.\u001b[39m_capsule \u001b[38;5;241m=\u001b[39m _settings_lib\u001b[38;5;241m.\u001b[39mcreate()\n\u001b[1;32m    143\u001b[0m \u001b[38;5;28;01melse\u001b[39;00m:\n\u001b[0;32m--> 144\u001b[0m     \u001b[38;5;28mself\u001b[39m\u001b[38;5;241m.\u001b[39m_capsule \u001b[38;5;241m=\u001b[39m \u001b[43m_apps_lib\u001b[49m\u001b[38;5;241;43m.\u001b[39;49m\u001b[43msettings_tree\u001b[49m\u001b[43m(\u001b[49m\u001b[43mapp\u001b[49m\u001b[43m,\u001b[49m\u001b[43m \u001b[49m\u001b[43msettings_file\u001b[49m\u001b[43m)\u001b[49m\n",
      "\u001b[0;31mRuntimeError\u001b[0m: oskar_app_settings_tree() failed."
     ]
    }
   ],
   "source": [
    "params = {\n",
    "    \"simulator\": {\n",
    "        \"use_gpus\": True\n",
    "    },\n",
    "    \"observation\" : {\n",
    "        \"num_channels\": 3,\n",
    "        \"start_frequency_hz\": 100e6,\n",
    "        \"frequency_inc_hz\": 20e6,\n",
    "        \"phase_centre_ra_deg\": 20,\n",
    "        \"phase_centre_dec_deg\": -30,\n",
    "        \"num_time_steps\": 24,\n",
    "        \"start_time_utc\": \"01-01-2000 12:00:00.000\",\n",
    "        \"length\": \"12:00:00.000\"\n",
    "    },\n",
    "    \"telescope\": {\n",
    "        \"input_directory\": \"telescope.tm\"\n",
    "    },\n",
    "    \"interferometer\": {\n",
    "        \"oskar_vis_filename\": \"example.vis\",\n",
    "        \"ms_filename\": \"\",\n",
    "        \"channel_bandwidth_hz\": 1e6,\n",
    "        \"time_average_sec\": 10\n",
    "    }\n",
    "}\n",
    "settings = oskar.SettingsTree(\"/home/yash-op-45/Documents/simulation-ska/test_files/oskar_sim_interferometer.ini\")\n",
    "settings.from_dict(params)"
   ]
  },
  {
   "cell_type": "code",
   "execution_count": null,
   "metadata": {},
   "outputs": [],
   "source": [
    "precision = \"single\"\n",
    "if precision == \"single\":\n",
    "    settings[\"simulator/double_precision\"] = False\n"
   ]
  },
  {
   "cell_type": "code",
   "execution_count": null,
   "metadata": {},
   "outputs": [],
   "source": [
    "sky_data = numpy.array([\n",
    "        [20.0, -30.0, 1, 0, 0, 0, 100.0e6, -0.7, 0.0, 0,   0,   0],\n",
    "        [20.0, -30.5, 3, 2, 2, 0, 100.0e6, -0.7, 0.0, 600, 50,  45],\n",
    "        [20.5, -30.5, 3, 0, 0, 2, 100.0e6, -0.7, 0.0, 700, 10, -10]])\n",
    "sky = oskar.Sky.from_array(sky_data, precision)"
   ]
  },
  {
   "cell_type": "code",
   "execution_count": null,
   "metadata": {},
   "outputs": [],
   "source": [
    "sim = oskar.Interferometer(settings=settings)\n",
    "sim.set_sky_model(sky)\n",
    "sim.run()"
   ]
  },
  {
   "cell_type": "code",
   "execution_count": null,
   "metadata": {},
   "outputs": [],
   "source": [
    "imager = oskar.Imager(precision)\n",
    "imager.set(fov_deg=4, image_size=512)\n",
    "imager.set(input_file=\"/home/yash-op-45/Documents/simulation-ska/test_files/example.vis\", output_root=\"example\")\n",
    "output = imager.run(return_images=1)\n",
    "image = output[\"images\"][0]"
   ]
  }
 ],
 "metadata": {
  "kernelspec": {
   "display_name": "Python 3",
   "language": "python",
   "name": "python3"
  },
  "language_info": {
   "codemirror_mode": {
    "name": "ipython",
    "version": 3
   },
   "file_extension": ".py",
   "mimetype": "text/x-python",
   "name": "python",
   "nbconvert_exporter": "python",
   "pygments_lexer": "ipython3",
   "version": "3.8.10"
  }
 },
 "nbformat": 4,
 "nbformat_minor": 2
}
