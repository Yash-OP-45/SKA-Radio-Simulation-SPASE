{
 "cells": [
  {
   "cell_type": "code",
   "execution_count": 1,
   "metadata": {},
   "outputs": [
    {
     "name": "stdout",
     "output_type": "stream",
     "text": [
      "63.30903451513032 -40.646199405439646\n"
     ]
    }
   ],
   "source": [
    "import astropy\n",
    "from astropy.coordinates import EarthLocation, AltAz\n",
    "from astropy.time import Time\n",
    "import astropy.units as u\n",
    "\n",
    "#Point of Interest (remains the same: F-110, Hall5, IITK)\n",
    "curr_location=EarthLocation(lat=26.509951955711866*u.deg,lon=80.22809216211232*u.deg,height=123.51*u.m)\n",
    "\n",
    "#Now Reference is Earth's Centre\n",
    "centre_of_earth = EarthLocation(lat=0*u.deg, lon=0*u.deg, height=0*u.m)\n",
    "\n",
    "time = Time('2024-06-11 7:00:00')  \n",
    "\n",
    "altaz = curr_location.get_gcrs(time).transform_to(AltAz(obstime=time, location=centre_of_earth))\n",
    "\n",
    "az = altaz.az.deg\n",
    "al = altaz.alt.deg\n",
    "print(az,al)\n",
    "\n"
   ]
  }
 ],
 "metadata": {
  "kernelspec": {
   "display_name": "Python 3",
   "language": "python",
   "name": "python3"
  },
  "language_info": {
   "codemirror_mode": {
    "name": "ipython",
    "version": 3
   },
   "file_extension": ".py",
   "mimetype": "text/x-python",
   "name": "python",
   "nbconvert_exporter": "python",
   "pygments_lexer": "ipython3",
   "version": "3.11.4"
  }
 },
 "nbformat": 4,
 "nbformat_minor": 2
}
